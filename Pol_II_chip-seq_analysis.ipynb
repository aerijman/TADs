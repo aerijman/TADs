{
 "cells": [
  {
   "cell_type": "code",
   "execution_count": 37,
   "metadata": {
    "collapsed": true,
    "deletable": true,
    "editable": true
   },
   "outputs": [],
   "source": [
    "import pandas as pd\n",
    "import numpy as np\n",
    "import matplotlib.pyplot as plt\n",
    "%matplotlib inline\n",
    "from sklearn.neighbors import KernelDensity"
   ]
  },
  {
   "cell_type": "code",
   "execution_count": 2,
   "metadata": {
    "collapsed": true,
    "deletable": true,
    "editable": true
   },
   "outputs": [],
   "source": [
    "Pol = pd.read_excel('Degron_Log2_table_140.xlsx')"
   ]
  },
  {
   "cell_type": "code",
   "execution_count": 4,
   "metadata": {
    "collapsed": false,
    "deletable": true,
    "editable": true
   },
   "outputs": [
    {
     "data": {
      "text/html": [
       "<div>\n",
       "<table border=\"1\" class=\"dataframe\">\n",
       "  <thead>\n",
       "    <tr style=\"text-align: right;\">\n",
       "      <th></th>\n",
       "      <th>Gene_name</th>\n",
       "      <th>WT_control_value</th>\n",
       "      <th>WT_log2_ratio</th>\n",
       "      <th>WT_Input_control_value</th>\n",
       "      <th>WT_Input_log2_ratio</th>\n",
       "      <th>Taf1_Input_control_value</th>\n",
       "      <th>Taf1_Input_log2_ratio</th>\n",
       "      <th>Taf1_control_value</th>\n",
       "      <th>Taf1_log2_ratio</th>\n",
       "      <th>Taf2_control_value</th>\n",
       "      <th>...</th>\n",
       "      <th>Taf13_control_value</th>\n",
       "      <th>Taf13_log2_ratio</th>\n",
       "      <th>Med14_control_value</th>\n",
       "      <th>Med14_log2_ratio</th>\n",
       "      <th>WT_minus_SM_control_value</th>\n",
       "      <th>WT_minus_SM_log2_ratio</th>\n",
       "      <th>WT_SM_control_value</th>\n",
       "      <th>WT_SM_log2_ratio</th>\n",
       "      <th>Taf1_SM_control_value</th>\n",
       "      <th>Taf1_SM_log2_ratio</th>\n",
       "    </tr>\n",
       "  </thead>\n",
       "  <tbody>\n",
       "    <tr>\n",
       "      <th>0</th>\n",
       "      <td>YDL065C</td>\n",
       "      <td>0.362639</td>\n",
       "      <td>0.642885</td>\n",
       "      <td>0.539910</td>\n",
       "      <td>-0.441307</td>\n",
       "      <td>0.719078</td>\n",
       "      <td>0.127743</td>\n",
       "      <td>0.512531</td>\n",
       "      <td>-1.561846</td>\n",
       "      <td>0.956236</td>\n",
       "      <td>...</td>\n",
       "      <td>0.308789</td>\n",
       "      <td>-2.488808</td>\n",
       "      <td>1.104972</td>\n",
       "      <td>-3.155815</td>\n",
       "      <td>0.349137</td>\n",
       "      <td>-0.803471</td>\n",
       "      <td>0.542111</td>\n",
       "      <td>-1.046110</td>\n",
       "      <td>0.190790</td>\n",
       "      <td>-0.211893</td>\n",
       "    </tr>\n",
       "    <tr>\n",
       "      <th>1</th>\n",
       "      <td>YMR195W</td>\n",
       "      <td>6.724054</td>\n",
       "      <td>-0.279872</td>\n",
       "      <td>0.643080</td>\n",
       "      <td>-0.599536</td>\n",
       "      <td>1.034468</td>\n",
       "      <td>0.037409</td>\n",
       "      <td>4.674302</td>\n",
       "      <td>-0.016954</td>\n",
       "      <td>3.971393</td>\n",
       "      <td>...</td>\n",
       "      <td>2.449984</td>\n",
       "      <td>-0.800580</td>\n",
       "      <td>9.596473</td>\n",
       "      <td>-4.761195</td>\n",
       "      <td>7.918071</td>\n",
       "      <td>0.225170</td>\n",
       "      <td>18.235858</td>\n",
       "      <td>-0.842693</td>\n",
       "      <td>12.536098</td>\n",
       "      <td>-0.364005</td>\n",
       "    </tr>\n",
       "    <tr>\n",
       "      <th>2</th>\n",
       "      <td>YNL325C</td>\n",
       "      <td>0.715918</td>\n",
       "      <td>-0.207474</td>\n",
       "      <td>0.508503</td>\n",
       "      <td>-0.552971</td>\n",
       "      <td>0.810313</td>\n",
       "      <td>-0.205766</td>\n",
       "      <td>0.605134</td>\n",
       "      <td>-1.154896</td>\n",
       "      <td>0.608900</td>\n",
       "      <td>...</td>\n",
       "      <td>0.358569</td>\n",
       "      <td>-1.153971</td>\n",
       "      <td>0.647398</td>\n",
       "      <td>-2.097132</td>\n",
       "      <td>0.917144</td>\n",
       "      <td>0.558014</td>\n",
       "      <td>0.672478</td>\n",
       "      <td>-0.146077</td>\n",
       "      <td>0.479749</td>\n",
       "      <td>-0.476856</td>\n",
       "    </tr>\n",
       "    <tr>\n",
       "      <th>3</th>\n",
       "      <td>YFL013C</td>\n",
       "      <td>0.721648</td>\n",
       "      <td>0.176197</td>\n",
       "      <td>0.429395</td>\n",
       "      <td>-0.464326</td>\n",
       "      <td>0.669150</td>\n",
       "      <td>-0.023081</td>\n",
       "      <td>0.639996</td>\n",
       "      <td>-1.691404</td>\n",
       "      <td>0.743345</td>\n",
       "      <td>...</td>\n",
       "      <td>0.315093</td>\n",
       "      <td>-1.286799</td>\n",
       "      <td>1.155491</td>\n",
       "      <td>-2.894989</td>\n",
       "      <td>0.291183</td>\n",
       "      <td>-0.068655</td>\n",
       "      <td>1.074051</td>\n",
       "      <td>-1.027129</td>\n",
       "      <td>0.409890</td>\n",
       "      <td>-0.453752</td>\n",
       "    </tr>\n",
       "    <tr>\n",
       "      <th>4</th>\n",
       "      <td>YER113C</td>\n",
       "      <td>0.786887</td>\n",
       "      <td>0.438375</td>\n",
       "      <td>0.561270</td>\n",
       "      <td>-0.652135</td>\n",
       "      <td>0.769385</td>\n",
       "      <td>0.205255</td>\n",
       "      <td>0.648763</td>\n",
       "      <td>-1.649812</td>\n",
       "      <td>0.903522</td>\n",
       "      <td>...</td>\n",
       "      <td>0.382426</td>\n",
       "      <td>-2.063858</td>\n",
       "      <td>1.387747</td>\n",
       "      <td>-2.997539</td>\n",
       "      <td>0.686064</td>\n",
       "      <td>0.179249</td>\n",
       "      <td>0.519800</td>\n",
       "      <td>-0.427114</td>\n",
       "      <td>0.246779</td>\n",
       "      <td>-0.542005</td>\n",
       "    </tr>\n",
       "  </tbody>\n",
       "</table>\n",
       "<p>5 rows × 25 columns</p>\n",
       "</div>"
      ],
      "text/plain": [
       "  Gene_name  WT_control_value  WT_log2_ratio  WT_Input_control_value  \\\n",
       "0   YDL065C          0.362639       0.642885                0.539910   \n",
       "1   YMR195W          6.724054      -0.279872                0.643080   \n",
       "2   YNL325C          0.715918      -0.207474                0.508503   \n",
       "3   YFL013C          0.721648       0.176197                0.429395   \n",
       "4   YER113C          0.786887       0.438375                0.561270   \n",
       "\n",
       "   WT_Input_log2_ratio  Taf1_Input_control_value  Taf1_Input_log2_ratio  \\\n",
       "0            -0.441307                  0.719078               0.127743   \n",
       "1            -0.599536                  1.034468               0.037409   \n",
       "2            -0.552971                  0.810313              -0.205766   \n",
       "3            -0.464326                  0.669150              -0.023081   \n",
       "4            -0.652135                  0.769385               0.205255   \n",
       "\n",
       "   Taf1_control_value  Taf1_log2_ratio  Taf2_control_value  \\\n",
       "0            0.512531        -1.561846            0.956236   \n",
       "1            4.674302        -0.016954            3.971393   \n",
       "2            0.605134        -1.154896            0.608900   \n",
       "3            0.639996        -1.691404            0.743345   \n",
       "4            0.648763        -1.649812            0.903522   \n",
       "\n",
       "          ...          Taf13_control_value  Taf13_log2_ratio  \\\n",
       "0         ...                     0.308789         -2.488808   \n",
       "1         ...                     2.449984         -0.800580   \n",
       "2         ...                     0.358569         -1.153971   \n",
       "3         ...                     0.315093         -1.286799   \n",
       "4         ...                     0.382426         -2.063858   \n",
       "\n",
       "   Med14_control_value  Med14_log2_ratio  WT_minus_SM_control_value  \\\n",
       "0             1.104972         -3.155815                   0.349137   \n",
       "1             9.596473         -4.761195                   7.918071   \n",
       "2             0.647398         -2.097132                   0.917144   \n",
       "3             1.155491         -2.894989                   0.291183   \n",
       "4             1.387747         -2.997539                   0.686064   \n",
       "\n",
       "   WT_minus_SM_log2_ratio  WT_SM_control_value  WT_SM_log2_ratio  \\\n",
       "0               -0.803471             0.542111         -1.046110   \n",
       "1                0.225170            18.235858         -0.842693   \n",
       "2                0.558014             0.672478         -0.146077   \n",
       "3               -0.068655             1.074051         -1.027129   \n",
       "4                0.179249             0.519800         -0.427114   \n",
       "\n",
       "   Taf1_SM_control_value  Taf1_SM_log2_ratio  \n",
       "0               0.190790           -0.211893  \n",
       "1              12.536098           -0.364005  \n",
       "2               0.479749           -0.476856  \n",
       "3               0.409890           -0.453752  \n",
       "4               0.246779           -0.542005  \n",
       "\n",
       "[5 rows x 25 columns]"
      ]
     },
     "execution_count": 4,
     "metadata": {},
     "output_type": "execute_result"
    }
   ],
   "source": [
    "Pol.head()"
   ]
  },
  {
   "cell_type": "code",
   "execution_count": 5,
   "metadata": {
    "collapsed": true,
    "deletable": true,
    "editable": true
   },
   "outputs": [],
   "source": [
    "sgd = pd.read_csv('SGD.csv')"
   ]
  },
  {
   "cell_type": "code",
   "execution_count": 7,
   "metadata": {
    "collapsed": false
   },
   "outputs": [],
   "source": [
    "sgd.dropna(inplace=True)"
   ]
  },
  {
   "cell_type": "markdown",
   "metadata": {},
   "source": [
    "<font color='red',size='5'> Kernel PDF</font>"
   ]
  },
  {
   "cell_type": "code",
   "execution_count": 42,
   "metadata": {
    "collapsed": false
   },
   "outputs": [],
   "source": [
    "def kernelPDF(x, y, bandwidth=0, kernel_choose='epanechnikov'):\n",
    "    \n",
    "    # Prepare \"histogram-like\" data\n",
    "    histo = []\n",
    "    for i in range(len(y)):\n",
    "        for j in range(y[i]):\n",
    "            histo.append(x[i])\n",
    "\n",
    "    histo = np.array(histo)\n",
    "    \n",
    "    #busco la optima bw si no esta definida como argumento\n",
    "    if locals()['bandwidth']==0:\n",
    "        bandwidth = np.std(histo)*(4/(3.0*len(histo)))**(1/5)\n",
    "        \n",
    "    # Kernel Density Estimation with Scikit-learn\n",
    "    kde = KernelDensity(kernel=kernel_choose, bandwidth=bandwidth).fit(histo[:,np.newaxis])\n",
    "    pdf = np.exp(kde.score_samples(x[:,np.newaxis]))\n",
    "    \n",
    "    return pdf, locals()['bandwidth']"
   ]
  },
  {
   "cell_type": "code",
   "execution_count": 85,
   "metadata": {
    "collapsed": true
   },
   "outputs": [],
   "source": [
    "his4 = pd.read_csv('HIS4.csv')"
   ]
  },
  {
   "cell_type": "code",
   "execution_count": 89,
   "metadata": {
    "collapsed": false
   },
   "outputs": [
    {
     "data": {
      "text/plain": [
       "[<matplotlib.lines.Line2D at 0xa98bcd0>]"
      ]
     },
     "execution_count": 89,
     "metadata": {},
     "output_type": "execute_result"
    },
    {
     "data": {
      "image/png": "[encoded data removed]",
      "text/plain": [
       "<matplotlib.figure.Figure at 0xae6db10>"
      ]
     },
     "metadata": {},
     "output_type": "display_data"
    }
   ],
   "source": [
    "his4.plot.scatter(x='from TSS', y='counts', figsize=(8,6), title='normalized counts in range TSS->[ORF]->Stop (ARG1 in this example)')\n",
    "tft = np.array(his4[['from TSS','counts']].values)\n",
    "pdf, local = kernelPDF(tft[:,0], tft[:,1], 90)\n",
    "plt.plot(pdf*20000, color='r', lw=3)"
   ]
  },
  {
   "cell_type": "code",
   "execution_count": 95,
   "metadata": {
    "collapsed": false
   },
   "outputs": [
    {
     "data": {
      "text/plain": [
       "6.5999128421871278"
      ]
     },
     "execution_count": 95,
     "metadata": {},
     "output_type": "execute_result"
    }
   ],
   "source": [
    "np.log2(97)"
   ]
  },
  {
   "cell_type": "code",
   "execution_count": null,
   "metadata": {
    "collapsed": true
   },
   "outputs": [],
   "source": []
  }
 ],
 "metadata": {
  "kernelspec": {
   "display_name": "Python 2",
   "language": "python",
   "name": "python2"
  },
  "language_info": {
   "codemirror_mode": {
    "name": "ipython",
    "version": 2
   },
   "file_extension": ".py",
   "mimetype": "text/x-python",
   "name": "python",
   "nbconvert_exporter": "python",
   "pygments_lexer": "ipython2",
   "version": "2.7.3"
  }
 },
 "nbformat": 4,
 "nbformat_minor": 2
}
