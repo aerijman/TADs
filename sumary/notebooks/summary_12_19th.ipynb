{
 "cells": [
  {
   "cell_type": "code",
   "execution_count": 1,
   "metadata": {},
   "outputs": [
    {
     "name": "stdout",
     "output_type": "stream",
     "text": [
      "Populating the interactive namespace from numpy and matplotlib\n"
     ]
    }
   ],
   "source": [
    "import os,sys\n",
    "sys.path.append(os.path.abspath('../libraries/'))\n",
    "from summary_utils import *\n",
    "%pylab inline\n",
    "\n",
    "db = '../data/data_complete.db'"
   ]
  },
  {
   "cell_type": "code",
   "execution_count": 2,
   "metadata": {},
   "outputs": [
    {
     "name": "stdout",
     "output_type": "stream",
     "text": [
      "positives: 37923 samples\n",
      "negatives: 1016412 samples\n"
     ]
    }
   ],
   "source": [
    "# load complete dataset and \n",
    "positives, length_positives = load_data_from_sqlite(db, 'positives')\n",
    "negatives, length_negatives = load_data_from_sqlite(db, 'negatives')\n",
    "print('positives: {} samples\\nnegatives: {} samples'.format(length_positives[0], length_negatives[0]))"
   ]
  },
  {
   "cell_type": "code",
   "execution_count": 3,
   "metadata": {},
   "outputs": [],
   "source": [
    "# Select indices for the validation set and by elimination set the training set \n",
    "for SET in ['positives','negatives']:\n",
    "    name = SET + '_validation'\n",
    "    length = vars()['length_' + SET][0]\n",
    "    tmp = np.arange(length)\n",
    "    np.random.seed(0)\n",
    "    np.random.shuffle(tmp)\n",
    "    vars()[name] = tmp[:int(length_positives[0]/10)]\n",
    "    vars()[SET + '_train'] = list(set(np.arange(length)) - set( eval(name) )) \n",
    "    \n",
    "# update the lengths of positives and negatives sets\n",
    "length_positives, length_negatives = len(positives_train), len(negatives_train)"
   ]
  },
  {
   "cell_type": "code",
   "execution_count": 4,
   "metadata": {},
   "outputs": [
    {
     "name": "stdout",
     "output_type": "stream",
     "text": [
      "The negative set can be devided into N arrays to make the computation faster.\n",
      "These are good options to choose: ['1' '2' '3' '4' '5' '6' '7' '10' '12' '14']\n"
     ]
    }
   ],
   "source": [
    "# In how many files should I store the mapped negatives\n",
    "potential_divisors = np.arange(1,15)\n",
    "divisors = np.where(length_negatives%potential_divisors==0)[0] + 1\n",
    "print('The negative set can be devided into N arrays to make the computation faster.\\n' \n",
    "       'These are good options to choose: {}'.format(divisors.astype(str)))"
   ]
  },
  {
   "cell_type": "markdown",
   "metadata": {},
   "source": [
    "## Single amino-acid / physico-chemical properties"
   ]
  },
  {
   "cell_type": "code",
   "execution_count": 5,
   "metadata": {},
   "outputs": [],
   "source": [
    "# create one numpy_map array for positives and 12 for negatives\n",
    "idx = positives_train\n",
    "p = get_aa_frequencies(positives[idx,0])\n",
    "p_train, p_filename = store_data_numpy(np.hstack(p).T, float)\n",
    "\n",
    "# set the positive validation array\n",
    "idx = positives_validation\n",
    "p_valid = get_aa_frequencies(positives[idx,0])\n",
    "p_valid = np.hstack(p_valid).T\n",
    "\n",
    "# negatives. SQL indexes start with 1 and not 0\n",
    "N = divisors[-1]\n",
    "idxs = np.array(negatives_train)\n",
    "idxs = np.vstack(np.split(idxs, N)) \n",
    "\n",
    "n_filenames = np.empty(N, dtype='O')\n",
    "n_train_shape = tuple(np.insert(idxs.shape, 2, 20))\n",
    "n_train = np.zeros(shape=n_train_shape, dtype=np.float)\n",
    "for i in range(N):\n",
    "    n = get_aa_frequencies(negatives[idxs[i],0])\n",
    "    n_train[i], n_filenames[i] = store_data_numpy(np.hstack(n).T, float)\n",
    "\n",
    "# set the negative validation array \n",
    "idx = negatives_validation\n",
    "n_valid = get_aa_frequencies(negatives[idx,0])\n",
    "n_valid = np.hstack(n_valid).T\n",
    "\n",
    "# set a proper validation set with negatives and positives\n",
    "X_valid = np.vstack([n_valid, p_valid])\n",
    "y_valid = np.hstack([np.zeros(n_valid.shape[0]), np.ones(p_valid.shape[0])])"
   ]
  },
  {
   "cell_type": "markdown",
   "metadata": {},
   "source": [
    "### Linear modeling, subsampling the negative set ~20 times"
   ]
  },
  {
   "cell_type": "code",
   "execution_count": 75,
   "metadata": {},
   "outputs": [],
   "source": [
    "from sklearn.linear_model import LogisticRegressionCV\n",
    "from sklearn.metrics import roc_auc_score, make_scorer\n",
    "\n",
    "aminoacid_frequencies = []\n",
    "for i in range(20):\n",
    "    \n",
    "    # subsample the negative set and join with positive set\n",
    "    negative_sample = np.concatenate(subsample_negatives(n_train, p_train.shape[0]))\n",
    "    positive_sample = p_train\n",
    "    \n",
    "    X = np.vstack([negative_sample, positive_sample])\n",
    "    y = np.hstack([np.zeros(negative_sample.shape[0]), np.ones(positive_sample.shape[0])])\n",
    "    \n",
    "    model = LogisticRegressionCV(Cs=np.linspace(1e-4, 1e4, 50), scoring=make_scorer(roc_auc_score)).fit(X,y)\n",
    "    performance = 1 - roc_auc_score(y_valid, model.predict_proba(X_valid)[:,0]) \n",
    "    \n",
    "    aminoacid_frequencies.append(performance)"
   ]
  },
  {
   "cell_type": "code",
   "execution_count": 118,
   "metadata": {},
   "outputs": [
    {
     "name": "stdout",
     "output_type": "stream",
     "text": [
      "amioacid frequencies\n",
      "auc = 0.93 +- 0.00006\n"
     ]
    },
    {
     "data": {
      "image/png": "[encoded data removed]",
      "text/plain": [
       "<Figure size 720x360 with 2 Axes>"
      ]
     },
     "metadata": {},
     "output_type": "display_data"
    }
   ],
   "source": [
    "print('amioacid frequencies\\nauc = {:.2f} +- {:.5f}'.format(np.mean(aminoacid_frequencies), np.std(aminoacid_frequencies)))\n",
    "cols = ['b']*3 + ['r']*2 + ['g']*12 + ['y']*3\n",
    "plt.figure(figsize=(10,5))\n",
    "\n",
    "plt.subplot(1,2,1)\n",
    "plt.title('coefficients', fontsize=16)\n",
    "plt.bar(aa, model.coef_[0], color=cols)\n",
    "plt.grid(axis='y')\n",
    "\n",
    "# frequencies\n",
    "n = np.where(y==0)\n",
    "p = np.where(y==1)\n",
    "freqs = np.mean(X[p], axis=0) / np.mean(X[n], axis=0)\n",
    "freqs = ((freqs - np.min(freqs)) / (np.max(freqs) - np.min(freqs))) - 0.5\n",
    "\n",
    "plt.subplot(1,2,2)\n",
    "plt.title('frequencies', fontsize=16)\n",
    "plt.bar(aa, freqs, color=cols)\n",
    "plt.grid();"
   ]
  },
  {
   "cell_type": "code",
   "execution_count": 23,
   "metadata": {},
   "outputs": [
    {
     "data": {
      "text/plain": [
       "1"
      ]
     },
     "execution_count": 23,
     "metadata": {},
     "output_type": "execute_result"
    }
   ],
   "source": [
    "# test all other physical properties\n",
    "other_props = []\n",
    "for prop in physical_props.columns:\n",
    "    \n",
    "    #X_valid_prop = np.dot(X_valid, physical_props[prop].values).reshape(-1,1)\n",
    "    \n",
    "    tmp = []\n",
    "    for i in range(20):\n",
    "\n",
    "        # subsample the negative set and join with positive set\n",
    "        negative_sample = np.concatenate(subsample_negatives(n_train, p_train.shape[0]))\n",
    "        positive_sample = p_train\n",
    "\n",
    "        X = np.vstack([negative_sample, positive_sample])\n",
    "        y = np.hstack([np.zeros(negative_sample.shape[0]), np.ones(positive_sample.shape[0])])\n",
    "        \n",
    "        # there is a problem with the index of physical_properties\n",
    "        Pidx = [i+' ' for i in aa]\n",
    "        X = np.dot(X, physical_props.loc[Pidx, prop].values)\n",
    "        \n",
    "        performance = 1 - roc_auc_score(y, X)\n",
    "\n",
    "        tmp.append(performance)\n",
    "    other_props.append(tmp)\n",
    "    \n",
    "# print results\n",
    "pd.DataFrame(np.array(other_props).mean(axis=1), index = physical_props.columns, columns=['roc_auc'])\n",
    "\n",
    "# remove the temporary numpy files of aminoacid frequencies\n",
    "import subprocess\n",
    "for i in n_filenames + p_filename: \n",
    "    subprocess.call([\"rm\",i])"
   ]
  },
  {
   "cell_type": "markdown",
   "metadata": {},
   "source": [
    "### __Charge__ can predict TAD with AUC=__0.88__ <br> __aminoacid composition__ with AUC=__0.93__ (which includes the charges and the information from hydrophobic and aromatic residues)<br>  \n",
    "## Dipeptides\n"
   ]
  },
  {
   "cell_type": "code",
   "execution_count": 5,
   "metadata": {},
   "outputs": [],
   "source": [
    "# create one numpy_map array for positives and 12 for negatives\n",
    "idx = positives_train\n",
    "p = get_dipeptide_frequencies(positives[idx,0])\n",
    "p_train, p_filename = store_data_numpy(np.vstack(p), float)\n",
    "\n",
    "# set the positive validation array\n",
    "idx = positives_validation\n",
    "p_valid = get_dipeptide_frequencies(positives[idx,0])\n",
    "p_valid = np.vstack(p_valid)\n",
    "\n",
    "# negatives. SQL indexes start with 1 and not 0\n",
    "N = divisors[-1]\n",
    "idxs = np.array(negatives_train)\n",
    "idxs = np.vstack(np.split(idxs, N)) \n",
    "\n",
    "n_filenames = np.empty(N, dtype='O')\n",
    "n_train_shape = tuple(np.insert(idxs.shape, 2, 400))\n",
    "n_train = np.zeros(shape=n_train_shape, dtype=np.float)\n",
    "for i in range(N):\n",
    "    n = get_dipeptide_frequencies(negatives[idxs[i],0])\n",
    "    n_train[i], n_filenames[i] = store_data_numpy(np.vstack(n), float)\n",
    "\n",
    "# set the negative validation array \n",
    "idx = negatives_validation\n",
    "n_valid = get_dipeptide_frequencies(negatives[idx,0])\n",
    "n_valid = np.vstack(n_valid)\n",
    "\n",
    "# set a proper validation set with negatives and positives\n",
    "X_valid = np.vstack([n_valid, p_valid])\n",
    "y_valid = np.hstack([np.zeros(n_valid.shape[0]), np.ones(p_valid.shape[0])])"
   ]
  },
  {
   "cell_type": "code",
   "execution_count": 70,
   "metadata": {},
   "outputs": [],
   "source": [
    "from sklearn.linear_model import LogisticRegressionCV\n",
    "from sklearn.metrics import roc_auc_score, make_scorer\n",
    "\n",
    "dipeptide_frequencies, coefficients = [], []\n",
    "for i in range(20):\n",
    "    \n",
    "    # subsample the negative set and join with positive set\n",
    "    negative_sample = np.concatenate(subsample_negatives(n_train, p_train.shape[0]))\n",
    "    positive_sample = p_train\n",
    "    \n",
    "    X = np.vstack([negative_sample, positive_sample])\n",
    "    y = np.hstack([np.zeros(negative_sample.shape[0]), np.ones(positive_sample.shape[0])])\n",
    "    \n",
    "    model = LogisticRegressionCV(Cs=np.linspace(1e-4, 1e4, 50), scoring=make_scorer(roc_auc_score)).fit(X,y)\n",
    "    performance = 1 - roc_auc_score(y_valid, model.predict_proba(X_valid)[:,0]) \n",
    "    \n",
    "    dipeptide_frequencies.append(performance)\n",
    "    coefficients.append(model.coef_[0])"
   ]
  },
  {
   "cell_type": "code",
   "execution_count": 71,
   "metadata": {},
   "outputs": [
    {
     "name": "stdout",
     "output_type": "stream",
     "text": [
      "0.9404 +- 0.0002\n"
     ]
    }
   ],
   "source": [
    "# Summarize dipeptides linear model\n",
    "x = np.mean(dipeptide_frequencies)\n",
    "s = np.std(dipeptide_frequencies)\n",
    "print('{:.4f} +- {:.4f}'.format(x,s))"
   ]
  },
  {
   "cell_type": "markdown",
   "metadata": {},
   "source": [
    "#### Flip the coefficients and test performance to assign importance of dipeptide 'DW'. How does that affect performance?"
   ]
  },
  {
   "cell_type": "code",
   "execution_count": 140,
   "metadata": {},
   "outputs": [
    {
     "name": "stdout",
     "output_type": "stream",
     "text": [
      "dipeptides model auc = 0.941\n",
      "flipped model auc = 0.921\n",
      "decrease in performance= 4.2%\n"
     ]
    },
    {
     "data": {
      "image/png": "[encoded data removed]",
      "text/plain": [
       "<Figure size 936x360 with 4 Axes>"
      ]
     },
     "metadata": {},
     "output_type": "display_data"
    }
   ],
   "source": [
    "# I In case this cell is run more than once, set coefficient to original values\n",
    "model.coef_[0] = coefficients[0]\n",
    "\n",
    "# get performance with correct weights.\n",
    "fwd_weights = 1 - roc_auc_score(y_valid, model.predict_proba(X_valid)[:,0])\n",
    "\n",
    "# plot coefficients \n",
    "f, (ax1, ax2) = plt.subplots(1, 2, figsize=(13,5))\n",
    "\n",
    "# correct orientation\n",
    "im = ax1.pcolor(model.coef_[0].reshape(20,20), cmap='hot_r')\n",
    "ax1.set_xticks(np.arange(20)+0.5)\n",
    "ax1.set_yticks(np.arange(20)+0.5)\n",
    "ax1.set_xticklabels(aa)\n",
    "ax1.set_yticklabels(aa)\n",
    "plt.colorbar(im, shrink=0.5, ax=ax1)\n",
    "\n",
    "# flip coefficients \n",
    "reverse = lambda dipept: ''.join([i for i in reversed(dipept)]) # reverse dipeptide fx\n",
    "fwd = ['DW','EW','DL','EL','DF','EF','DI','FI']\n",
    "rev = [reverse(i) for i in fwd]\n",
    "fwd = [np.where(dipeptides==i)[0][0] for i in fwd]\n",
    "rev = [np.where(dipeptides==i)[0][0] for i in rev]\n",
    "\n",
    "coef_fwd = [model.coef_[0][i] for i in fwd]\n",
    "coef_rev = [model.coef_[0][i] for i in rev]\n",
    "\n",
    "# perform the flipping\n",
    "for i,j,k,l in zip(fwd, coef_rev, rev, coef_fwd):\n",
    "    model.coef_[0][i] = j\n",
    "    model.coef_[0][k] = l\n",
    "\n",
    "# plot the flipped orientation \n",
    "im = ax2.pcolor(model.coef_[0].reshape(20,20), cmap='hot_r')\n",
    "ax2.set_xticks(np.arange(20)+0.5)\n",
    "ax2.set_yticks(np.arange(20)+0.5)\n",
    "ax2.set_xticklabels(aa)\n",
    "ax2.set_yticklabels(aa)\n",
    "plt.colorbar(im, shrink=0.5, ax=ax2);\n",
    "\n",
    "# get performance using the flipped orientation\n",
    "rev_weights = 1 - roc_auc_score(y_valid, model.predict_proba(X_valid)[:,0])\n",
    "print('dipeptides model auc = {:.3f}\\nflipped model auc = {:.3f}\\ndecrease in performance= {:.1f}%'.format(\n",
    "                                                fwd_weights, rev_weights, (1-(rev_weights/fwd_weights))*200))"
   ]
  },
  {
   "cell_type": "markdown",
   "metadata": {},
   "source": [
    "#### What if we flip the whole heatmap on the diagonal line (lower left to upper right)?"
   ]
  },
  {
   "cell_type": "code",
   "execution_count": 141,
   "metadata": {},
   "outputs": [
    {
     "name": "stdout",
     "output_type": "stream",
     "text": [
      "dipeptides model auc = 0.941\n",
      "flipped model auc = 0.931\n",
      "decrease in performance= 2.1%\n"
     ]
    },
    {
     "data": {
      "image/png": "[encoded data removed]",
      "text/plain": [
       "<Figure size 936x360 with 4 Axes>"
      ]
     },
     "metadata": {},
     "output_type": "display_data"
    }
   ],
   "source": [
    "# I In case this cell is run more than once, set coefficient to original values\n",
    "model.coef_[0] = coefficients[0]\n",
    "\n",
    "# get performance with correct weights.\n",
    "fwd_weights = 1 - roc_auc_score(y_valid, model.predict_proba(X_valid)[:,0])\n",
    "\n",
    "# plot coefficients \n",
    "f, (ax1, ax2) = plt.subplots(1, 2, figsize=(13,5))\n",
    "\n",
    "# correct orientation\n",
    "im = ax1.pcolor(model.coef_[0].reshape(20,20), cmap='hot_r')\n",
    "ax1.set_xticks(np.arange(20)+0.5)\n",
    "ax1.set_yticks(np.arange(20)+0.5)\n",
    "ax1.set_xticklabels(aa)\n",
    "ax1.set_yticklabels(aa)\n",
    "plt.colorbar(im, shrink=0.5, ax=ax1)\n",
    "\n",
    "# flip coefficients \n",
    "reverse = lambda dipept: ''.join([i for i in reversed(dipept)]) # reverse dipeptide fx\n",
    "fwd = dipeptides\n",
    "rev = [reverse(i) for i in fwd]\n",
    "fwd = [np.where(dipeptides==i)[0][0] for i in fwd]\n",
    "rev = [np.where(dipeptides==i)[0][0] for i in rev]\n",
    "\n",
    "coef_fwd = [model.coef_[0][i] for i in fwd]\n",
    "coef_rev = [model.coef_[0][i] for i in rev]\n",
    "\n",
    "# perform the flipping\n",
    "for i,j,k,l in zip(fwd, coef_rev, rev, coef_fwd):\n",
    "    model.coef_[0][i] = j\n",
    "    model.coef_[0][k] = l\n",
    "\n",
    "# plot the flipped orientation \n",
    "im = ax2.pcolor(model.coef_[0].reshape(20,20), cmap='hot_r')\n",
    "ax2.set_xticks(np.arange(20)+0.5)\n",
    "ax2.set_yticks(np.arange(20)+0.5)\n",
    "ax2.set_xticklabels(aa)\n",
    "ax2.set_yticklabels(aa)\n",
    "plt.colorbar(im, shrink=0.5, ax=ax2);\n",
    "\n",
    "# get performance using the flipped orientation\n",
    "rev_weights = 1 - roc_auc_score(y_valid, model.predict_proba(X_valid)[:,0])\n",
    "print('dipeptides model auc = {:.3f}\\nflipped model auc = {:.3f}\\ndecrease in performance= {:.1f}%'.format(\n",
    "                                                fwd_weights, rev_weights, (1-(rev_weights/fwd_weights))*200))"
   ]
  },
  {
   "cell_type": "markdown",
   "metadata": {},
   "source": [
    "### And shuffling?"
   ]
  },
  {
   "cell_type": "code",
   "execution_count": 142,
   "metadata": {},
   "outputs": [
    {
     "name": "stdout",
     "output_type": "stream",
     "text": [
      "dipeptides model auc = 0.941\n",
      "flipped model auc = 0.571\n",
      "decrease in performance= 78.6%\n"
     ]
    },
    {
     "data": {
      "image/png": "[encoded data removed]",
      "text/plain": [
       "<Figure size 936x360 with 4 Axes>"
      ]
     },
     "metadata": {},
     "output_type": "display_data"
    }
   ],
   "source": [
    "# I In case this cell is run more than once, set coefficient to original values\n",
    "model.coef_[0] = coefficients[0]\n",
    "\n",
    "# get performance with correct weights.\n",
    "fwd_weights = 1 - roc_auc_score(y_valid, model.predict_proba(X_valid)[:,0])\n",
    "\n",
    "# plot coefficients \n",
    "f, (ax1, ax2) = plt.subplots(1, 2, figsize=(13,5))\n",
    "\n",
    "# correct orientation\n",
    "im = ax1.pcolor(model.coef_[0].reshape(20,20), cmap='hot_r')\n",
    "ax1.set_xticks(np.arange(20)+0.5)\n",
    "ax1.set_yticks(np.arange(20)+0.5)\n",
    "ax1.set_xticklabels(aa)\n",
    "ax1.set_yticklabels(aa)\n",
    "plt.colorbar(im, shrink=0.5, ax=ax1)\n",
    "\n",
    "# shuffle coefficients \n",
    "np.random.shuffle(model.coef_[0])\n",
    "\n",
    "# plot the flipped orientation \n",
    "im = ax2.pcolor(model.coef_[0].reshape(20,20), cmap='hot_r')\n",
    "ax2.set_xticks(np.arange(20)+0.5)\n",
    "ax2.set_yticks(np.arange(20)+0.5)\n",
    "ax2.set_xticklabels(aa)\n",
    "ax2.set_yticklabels(aa)\n",
    "plt.colorbar(im, shrink=0.5, ax=ax2);\n",
    "\n",
    "# get performance using the flipped orientation\n",
    "rev_weights = 1 - roc_auc_score(y_valid, model.predict_proba(X_valid)[:,0])\n",
    "# get performance using the flipped orientation\n",
    "rev_weights = 1 - roc_auc_score(y_valid, model.predict_proba(X_valid)[:,0])\n",
    "print('dipeptides model auc = {:.3f}\\nflipped model auc = {:.3f}\\ndecrease in performance= {:.1f}%'.format(\n",
    "                                                fwd_weights, rev_weights, (1-(rev_weights/fwd_weights))*200))"
   ]
  },
  {
   "cell_type": "markdown",
   "metadata": {},
   "source": [
    "### Try flipping weights of every other dipeptides, one at a time and compare?"
   ]
  },
  {
   "cell_type": "code",
   "execution_count": 143,
   "metadata": {},
   "outputs": [
    {
     "data": {
      "image/png": "[encoded data removed]",
      "text/plain": [
       "<Figure size 432x360 with 2 Axes>"
      ]
     },
     "metadata": {},
     "output_type": "display_data"
    }
   ],
   "source": [
    "# and store the impact in performance in this list\n",
    "flipping_performances = []\n",
    "\n",
    "for idx in dipeptides:\n",
    "    # I In case this cell is run more than once, set coefficient to original values\n",
    "    model.coef_[0] = coefficients[0]\n",
    "\n",
    "    # get performance with correct weights.\n",
    "    fwd_weights = 1 - roc_auc_score(y_valid, model.predict_proba(X_valid)[:,0])\n",
    "\n",
    "    # flip coefficients \n",
    "    reverse = lambda dipept: ''.join([i for i in reversed(dipept)]) # reverse dipeptide fx\n",
    "    fwd = [idx]\n",
    "    rev = [reverse(i) for i in fwd]\n",
    "    fwd = [np.where(dipeptides==i)[0][0] for i in fwd]\n",
    "    rev = [np.where(dipeptides==i)[0][0] for i in rev]\n",
    "\n",
    "    coef_fwd = [model.coef_[0][i] for i in fwd]\n",
    "    coef_rev = [model.coef_[0][i] for i in rev]\n",
    "\n",
    "    # perform the flipping\n",
    "    for i,j,k,l in zip(fwd, coef_rev, rev, coef_fwd):\n",
    "        model.coef_[0][i] = j\n",
    "        model.coef_[0][k] = l\n",
    "\n",
    "    # get performance using the flipped orientation\n",
    "    rev_weights = 1 - roc_auc_score(y_valid, model.predict_proba(X_valid)[:,0])\n",
    "    flipping_performances.append(rev_weights / fwd_weights)\n",
    "\n",
    "# convert flipping performances into performance losses\n",
    "flipping_performances = (1-np.array(flipping_performances))*200\n",
    "    \n",
    "# plot coefficients \n",
    "f, ax1 = plt.subplots(1, figsize=(6,5))\n",
    "\n",
    "# correct orientation\n",
    "im = ax1.pcolor(np.array(flipping_performances).reshape(20,20), cmap='hot_r')\n",
    "ax1.set_xticks(np.arange(20)+0.5)\n",
    "ax1.set_yticks(np.arange(20)+0.5)\n",
    "ax1.set_xticklabels(aa)\n",
    "ax1.set_yticklabels(aa)\n",
    "plt.colorbar(im, shrink=0.5, ax=ax1)\n",
    "ax1.set_title('Impact of fliping the dipeptide on\\nperformance of linear model', fontsize=16);"
   ]
  },
  {
   "cell_type": "markdown",
   "metadata": {},
   "source": [
    "### Try assigning a zero to each coefficient."
   ]
  },
  {
   "cell_type": "code",
   "execution_count": 144,
   "metadata": {},
   "outputs": [
    {
     "data": {
      "image/png": "[encoded data removed]",
      "text/plain": [
       "<Figure size 432x360 with 2 Axes>"
      ]
     },
     "metadata": {},
     "output_type": "display_data"
    }
   ],
   "source": [
    "# and store the impact in performance in this list\n",
    "nulling_performances = []\n",
    "\n",
    "for idx in range(len(dipeptides)):\n",
    "    # I In case this cell is run more than once, set coefficient to original values\n",
    "    model.coef_[0] = coefficients[0]\n",
    "\n",
    "    # get performance with correct weights.\n",
    "    fwd_weights = 1 - roc_auc_score(y_valid, model.predict_proba(X_valid)[:,0])\n",
    "\n",
    "    # zeroing the coefficient\n",
    "    model.coef_[0][idx] = 0\n",
    "    \n",
    "    # get performance using the flipped orientation\n",
    "    rev_weights = 1 - roc_auc_score(y_valid, model.predict_proba(X_valid)[:,0])\n",
    "    nulling_performances.append(rev_weights / fwd_weights)\n",
    "    \n",
    "\n",
    "# convert data into performece losses\n",
    "nulling_performances = (1 - np.array(nulling_performances))*200\n",
    "\n",
    "# plot coefficients \n",
    "f, ax1 = plt.subplots(1, figsize=(6,5))\n",
    "\n",
    "# correct orientation\n",
    "im = ax1.pcolor(np.array(nulling_performances).reshape(20,20), cmap='hot_r')\n",
    "ax1.set_xticks(np.arange(20)+0.5)\n",
    "ax1.set_yticks(np.arange(20)+0.5)\n",
    "ax1.set_xticklabels(aa)\n",
    "ax1.set_yticklabels(aa)\n",
    "plt.colorbar(im, shrink=0.5, ax=ax1)\n",
    "ax1.set_title('Impact of zeroing the dipeptide on\\nperformance of linear model', fontsize=16);"
   ]
  },
  {
   "cell_type": "markdown",
   "metadata": {},
   "source": [
    "### Conclutions from dipeptide segment: \n",
    "* The importance of dipeptides included in 'DW','EW','DL','EL','DF','EF','DI','FI' has a small impact in the overall performance.\n",
    "* Flipping the whole heatmap, leaving only same-aminoacid dipeptides intact has less effect on the performance, compared to the above dipeptides.\n",
    "* As a control, shuffling the coefficients, brings performance ~80% down.\n",
    "* __flipping the dipeptides , one at a time, has bigger (2x) impact compared to zeroing them. Specially involving DV, DL, DI, EV, SV__\n",
    "* Only DV, DL, DI, DF, DW and to a lower extent the EXs show up to ~0.5% decrease in performance compared to the original model.  \n",
    "<br><br>\n",
    "\n",
    "## Using dipeptides in an ensemble trees model"
   ]
  },
  {
   "cell_type": "code",
   "execution_count": 6,
   "metadata": {},
   "outputs": [
    {
     "name": "stderr",
     "output_type": "stream",
     "text": [
      "/app/easybuild/software/Python/3.6.5-foss-2016b-fh3/lib/python3.6/site-packages/sklearn/preprocessing/label.py:151: DeprecationWarning: The truth value of an empty array is ambiguous. Returning False, but in future this will result in an error. Use `array.size > 0` to check that an array is not empty.\n",
      "  if diff:\n",
      "/app/easybuild/software/Python/3.6.5-foss-2016b-fh3/lib/python3.6/site-packages/sklearn/preprocessing/label.py:151: DeprecationWarning: The truth value of an empty array is ambiguous. Returning False, but in future this will result in an error. Use `array.size > 0` to check that an array is not empty.\n",
      "  if diff:\n",
      "/app/easybuild/software/Python/3.6.5-foss-2016b-fh3/lib/python3.6/site-packages/sklearn/preprocessing/label.py:151: DeprecationWarning: The truth value of an empty array is ambiguous. Returning False, but in future this will result in an error. Use `array.size > 0` to check that an array is not empty.\n",
      "  if diff:\n",
      "/app/easybuild/software/Python/3.6.5-foss-2016b-fh3/lib/python3.6/site-packages/sklearn/preprocessing/label.py:151: DeprecationWarning: The truth value of an empty array is ambiguous. Returning False, but in future this will result in an error. Use `array.size > 0` to check that an array is not empty.\n",
      "  if diff:\n",
      "/app/easybuild/software/Python/3.6.5-foss-2016b-fh3/lib/python3.6/site-packages/sklearn/preprocessing/label.py:151: DeprecationWarning: The truth value of an empty array is ambiguous. Returning False, but in future this will result in an error. Use `array.size > 0` to check that an array is not empty.\n",
      "  if diff:\n",
      "/app/easybuild/software/Python/3.6.5-foss-2016b-fh3/lib/python3.6/site-packages/sklearn/preprocessing/label.py:151: DeprecationWarning: The truth value of an empty array is ambiguous. Returning False, but in future this will result in an error. Use `array.size > 0` to check that an array is not empty.\n",
      "  if diff:\n",
      "/app/easybuild/software/Python/3.6.5-foss-2016b-fh3/lib/python3.6/site-packages/sklearn/preprocessing/label.py:151: DeprecationWarning: The truth value of an empty array is ambiguous. Returning False, but in future this will result in an error. Use `array.size > 0` to check that an array is not empty.\n",
      "  if diff:\n",
      "/app/easybuild/software/Python/3.6.5-foss-2016b-fh3/lib/python3.6/site-packages/sklearn/preprocessing/label.py:151: DeprecationWarning: The truth value of an empty array is ambiguous. Returning False, but in future this will result in an error. Use `array.size > 0` to check that an array is not empty.\n",
      "  if diff:\n",
      "/app/easybuild/software/Python/3.6.5-foss-2016b-fh3/lib/python3.6/site-packages/sklearn/preprocessing/label.py:151: DeprecationWarning: The truth value of an empty array is ambiguous. Returning False, but in future this will result in an error. Use `array.size > 0` to check that an array is not empty.\n",
      "  if diff:\n",
      "/app/easybuild/software/Python/3.6.5-foss-2016b-fh3/lib/python3.6/site-packages/sklearn/preprocessing/label.py:151: DeprecationWarning: The truth value of an empty array is ambiguous. Returning False, but in future this will result in an error. Use `array.size > 0` to check that an array is not empty.\n",
      "  if diff:\n",
      "/app/easybuild/software/Python/3.6.5-foss-2016b-fh3/lib/python3.6/site-packages/sklearn/preprocessing/label.py:151: DeprecationWarning: The truth value of an empty array is ambiguous. Returning False, but in future this will result in an error. Use `array.size > 0` to check that an array is not empty.\n",
      "  if diff:\n",
      "/app/easybuild/software/Python/3.6.5-foss-2016b-fh3/lib/python3.6/site-packages/sklearn/preprocessing/label.py:151: DeprecationWarning: The truth value of an empty array is ambiguous. Returning False, but in future this will result in an error. Use `array.size > 0` to check that an array is not empty.\n",
      "  if diff:\n",
      "/app/easybuild/software/Python/3.6.5-foss-2016b-fh3/lib/python3.6/site-packages/sklearn/preprocessing/label.py:151: DeprecationWarning: The truth value of an empty array is ambiguous. Returning False, but in future this will result in an error. Use `array.size > 0` to check that an array is not empty.\n",
      "  if diff:\n",
      "/app/easybuild/software/Python/3.6.5-foss-2016b-fh3/lib/python3.6/site-packages/sklearn/preprocessing/label.py:151: DeprecationWarning: The truth value of an empty array is ambiguous. Returning False, but in future this will result in an error. Use `array.size > 0` to check that an array is not empty.\n",
      "  if diff:\n",
      "/app/easybuild/software/Python/3.6.5-foss-2016b-fh3/lib/python3.6/site-packages/sklearn/preprocessing/label.py:151: DeprecationWarning: The truth value of an empty array is ambiguous. Returning False, but in future this will result in an error. Use `array.size > 0` to check that an array is not empty.\n",
      "  if diff:\n",
      "/app/easybuild/software/Python/3.6.5-foss-2016b-fh3/lib/python3.6/site-packages/sklearn/preprocessing/label.py:151: DeprecationWarning: The truth value of an empty array is ambiguous. Returning False, but in future this will result in an error. Use `array.size > 0` to check that an array is not empty.\n",
      "  if diff:\n",
      "/app/easybuild/software/Python/3.6.5-foss-2016b-fh3/lib/python3.6/site-packages/sklearn/preprocessing/label.py:151: DeprecationWarning: The truth value of an empty array is ambiguous. Returning False, but in future this will result in an error. Use `array.size > 0` to check that an array is not empty.\n",
      "  if diff:\n",
      "/app/easybuild/software/Python/3.6.5-foss-2016b-fh3/lib/python3.6/site-packages/sklearn/preprocessing/label.py:151: DeprecationWarning: The truth value of an empty array is ambiguous. Returning False, but in future this will result in an error. Use `array.size > 0` to check that an array is not empty.\n",
      "  if diff:\n",
      "/app/easybuild/software/Python/3.6.5-foss-2016b-fh3/lib/python3.6/site-packages/sklearn/preprocessing/label.py:151: DeprecationWarning: The truth value of an empty array is ambiguous. Returning False, but in future this will result in an error. Use `array.size > 0` to check that an array is not empty.\n",
      "  if diff:\n",
      "/app/easybuild/software/Python/3.6.5-foss-2016b-fh3/lib/python3.6/site-packages/sklearn/preprocessing/label.py:151: DeprecationWarning: The truth value of an empty array is ambiguous. Returning False, but in future this will result in an error. Use `array.size > 0` to check that an array is not empty.\n",
      "  if diff:\n"
     ]
    }
   ],
   "source": [
    "import warnings\n",
    "warnings.filterwarnings('ignore')\n",
    "\n",
    "from sklearn.metrics import roc_auc_score, make_scorer\n",
    "from xgboost import XGBClassifier\n",
    "\n",
    "# booster parameters\n",
    "param = {'max_depth': 3, \n",
    "         'eta': 1, \n",
    "         'silent': 1, \n",
    "         'learning_rate': 0.1,\n",
    "         'objective': 'binary:logistic',\n",
    "         'eval_metric': 'auc',\n",
    "         'nthread':4,\n",
    "         'subsample':0.8,\n",
    "         'booster':'gbtree',\n",
    "         'n_estimators': 100}\n",
    "\n",
    "\n",
    "performances, models = [], []\n",
    "for i in range(10):\n",
    "    \n",
    "    # subsample the negative set and join with positive set\n",
    "    negative_sample = np.concatenate(subsample_negatives(n_train, p_train.shape[0]))\n",
    "    positive_sample = p_train\n",
    "    \n",
    "    X = np.vstack([negative_sample, positive_sample])\n",
    "    y = np.hstack([np.zeros(negative_sample.shape[0]), np.ones(positive_sample.shape[0])])\n",
    "    \n",
    "    # Monitoring training performance\n",
    "    eval_set = [(X,y), (X_valid, y_valid)] # should change this to X_set\n",
    "    eval_metric = [\"auc\"] #, \"logloss\", \"error\"]\n",
    "    early_stopping_rounds=10\n",
    "\n",
    "\n",
    "    # fit model no training data\n",
    "    model = XGBClassifier(**param)\n",
    "    model.fit(X,y, eval_set=eval_set, \n",
    "                   eval_metric=eval_metric,\n",
    "                   early_stopping_rounds=early_stopping_rounds, \n",
    "                   verbose=False)\n",
    "    \n",
    "    y_pred = model.predict(X_valid)  \n",
    "    # Am I overfitting? How was performance in the training data?\n",
    "    y_pred2 = model.predict(X)\n",
    "\n",
    "    # evaluate predictions\n",
    "    on_training = roc_auc_score(y, y_pred2)\n",
    "    on_validation = roc_auc_score(y_valid, y_pred)\n",
    "\n",
    "    performances.append([on_training, on_validation])\n",
    "    models.append(model)"
   ]
  },
  {
   "cell_type": "code",
   "execution_count": 7,
   "metadata": {},
   "outputs": [
    {
     "data": {
      "text/plain": [
       "<matplotlib.legend.Legend at 0x7f9c954a4c88>"
      ]
     },
     "execution_count": 7,
     "metadata": {},
     "output_type": "execute_result"
    },
    {
     "data": {
      "image/png": "[encoded data removed]",
      "text/plain": [
       "<Figure size 432x288 with 1 Axes>"
      ]
     },
     "metadata": {},
     "output_type": "display_data"
    }
   ],
   "source": [
    "l = len(models[0].evals_result()['validation_0']['auc'])\n",
    "plt.plot(np.arange(l), models[0].evals_result()['validation_0']['auc'], label='training')\n",
    "plt.plot(np.arange(l), models[0].evals_result()['validation_1']['auc'], label='validation')\n",
    "plt.legend()"
   ]
  },
  {
   "cell_type": "code",
   "execution_count": 8,
   "metadata": {},
   "outputs": [
    {
     "data": {
      "text/plain": [
       "<matplotlib.colorbar.Colorbar at 0x7f9c952f99e8>"
      ]
     },
     "execution_count": 8,
     "metadata": {},
     "output_type": "execute_result"
    },
    {
     "data": {
      "image/png": "[encoded data removed]",
      "text/plain": [
       "<Figure size 432x360 with 2 Axes>"
      ]
     },
     "metadata": {},
     "output_type": "display_data"
    }
   ],
   "source": [
    "f, ax = plt.subplots(1, figsize=(6,5))\n",
    "im = plt.pcolor(models[9].feature_importances_.reshape(20,20), cmap='hot_r')\n",
    "ax.set_xticks(np.arange(20)+0.5)\n",
    "ax.set_yticks(np.arange(20)+0.5)\n",
    "ax.set_xticklabels(aa)\n",
    "ax.set_yticklabels(aa)\n",
    "plt.colorbar(im, shrink=0.5, ax=ax)"
   ]
  },
  {
   "cell_type": "markdown",
   "metadata": {},
   "source": [
    "# xgboost with single amino acid frequencies"
   ]
  },
  {
   "cell_type": "code",
   "execution_count": 6,
   "metadata": {},
   "outputs": [
    {
     "name": "stderr",
     "output_type": "stream",
     "text": [
      "/app/easybuild/software/Python/3.6.5-foss-2016b-fh3/lib/python3.6/site-packages/sklearn/preprocessing/label.py:151: DeprecationWarning: The truth value of an empty array is ambiguous. Returning False, but in future this will result in an error. Use `array.size > 0` to check that an array is not empty.\n",
      "  if diff:\n",
      "/app/easybuild/software/Python/3.6.5-foss-2016b-fh3/lib/python3.6/site-packages/sklearn/preprocessing/label.py:151: DeprecationWarning: The truth value of an empty array is ambiguous. Returning False, but in future this will result in an error. Use `array.size > 0` to check that an array is not empty.\n",
      "  if diff:\n",
      "/app/easybuild/software/Python/3.6.5-foss-2016b-fh3/lib/python3.6/site-packages/sklearn/preprocessing/label.py:151: DeprecationWarning: The truth value of an empty array is ambiguous. Returning False, but in future this will result in an error. Use `array.size > 0` to check that an array is not empty.\n",
      "  if diff:\n",
      "/app/easybuild/software/Python/3.6.5-foss-2016b-fh3/lib/python3.6/site-packages/sklearn/preprocessing/label.py:151: DeprecationWarning: The truth value of an empty array is ambiguous. Returning False, but in future this will result in an error. Use `array.size > 0` to check that an array is not empty.\n",
      "  if diff:\n",
      "/app/easybuild/software/Python/3.6.5-foss-2016b-fh3/lib/python3.6/site-packages/sklearn/preprocessing/label.py:151: DeprecationWarning: The truth value of an empty array is ambiguous. Returning False, but in future this will result in an error. Use `array.size > 0` to check that an array is not empty.\n",
      "  if diff:\n",
      "/app/easybuild/software/Python/3.6.5-foss-2016b-fh3/lib/python3.6/site-packages/sklearn/preprocessing/label.py:151: DeprecationWarning: The truth value of an empty array is ambiguous. Returning False, but in future this will result in an error. Use `array.size > 0` to check that an array is not empty.\n",
      "  if diff:\n",
      "/app/easybuild/software/Python/3.6.5-foss-2016b-fh3/lib/python3.6/site-packages/sklearn/preprocessing/label.py:151: DeprecationWarning: The truth value of an empty array is ambiguous. Returning False, but in future this will result in an error. Use `array.size > 0` to check that an array is not empty.\n",
      "  if diff:\n",
      "/app/easybuild/software/Python/3.6.5-foss-2016b-fh3/lib/python3.6/site-packages/sklearn/preprocessing/label.py:151: DeprecationWarning: The truth value of an empty array is ambiguous. Returning False, but in future this will result in an error. Use `array.size > 0` to check that an array is not empty.\n",
      "  if diff:\n",
      "/app/easybuild/software/Python/3.6.5-foss-2016b-fh3/lib/python3.6/site-packages/sklearn/preprocessing/label.py:151: DeprecationWarning: The truth value of an empty array is ambiguous. Returning False, but in future this will result in an error. Use `array.size > 0` to check that an array is not empty.\n",
      "  if diff:\n",
      "/app/easybuild/software/Python/3.6.5-foss-2016b-fh3/lib/python3.6/site-packages/sklearn/preprocessing/label.py:151: DeprecationWarning: The truth value of an empty array is ambiguous. Returning False, but in future this will result in an error. Use `array.size > 0` to check that an array is not empty.\n",
      "  if diff:\n",
      "/app/easybuild/software/Python/3.6.5-foss-2016b-fh3/lib/python3.6/site-packages/sklearn/preprocessing/label.py:151: DeprecationWarning: The truth value of an empty array is ambiguous. Returning False, but in future this will result in an error. Use `array.size > 0` to check that an array is not empty.\n",
      "  if diff:\n",
      "/app/easybuild/software/Python/3.6.5-foss-2016b-fh3/lib/python3.6/site-packages/sklearn/preprocessing/label.py:151: DeprecationWarning: The truth value of an empty array is ambiguous. Returning False, but in future this will result in an error. Use `array.size > 0` to check that an array is not empty.\n",
      "  if diff:\n",
      "/app/easybuild/software/Python/3.6.5-foss-2016b-fh3/lib/python3.6/site-packages/sklearn/preprocessing/label.py:151: DeprecationWarning: The truth value of an empty array is ambiguous. Returning False, but in future this will result in an error. Use `array.size > 0` to check that an array is not empty.\n",
      "  if diff:\n",
      "/app/easybuild/software/Python/3.6.5-foss-2016b-fh3/lib/python3.6/site-packages/sklearn/preprocessing/label.py:151: DeprecationWarning: The truth value of an empty array is ambiguous. Returning False, but in future this will result in an error. Use `array.size > 0` to check that an array is not empty.\n",
      "  if diff:\n",
      "/app/easybuild/software/Python/3.6.5-foss-2016b-fh3/lib/python3.6/site-packages/sklearn/preprocessing/label.py:151: DeprecationWarning: The truth value of an empty array is ambiguous. Returning False, but in future this will result in an error. Use `array.size > 0` to check that an array is not empty.\n",
      "  if diff:\n",
      "/app/easybuild/software/Python/3.6.5-foss-2016b-fh3/lib/python3.6/site-packages/sklearn/preprocessing/label.py:151: DeprecationWarning: The truth value of an empty array is ambiguous. Returning False, but in future this will result in an error. Use `array.size > 0` to check that an array is not empty.\n",
      "  if diff:\n",
      "/app/easybuild/software/Python/3.6.5-foss-2016b-fh3/lib/python3.6/site-packages/sklearn/preprocessing/label.py:151: DeprecationWarning: The truth value of an empty array is ambiguous. Returning False, but in future this will result in an error. Use `array.size > 0` to check that an array is not empty.\n",
      "  if diff:\n",
      "/app/easybuild/software/Python/3.6.5-foss-2016b-fh3/lib/python3.6/site-packages/sklearn/preprocessing/label.py:151: DeprecationWarning: The truth value of an empty array is ambiguous. Returning False, but in future this will result in an error. Use `array.size > 0` to check that an array is not empty.\n",
      "  if diff:\n",
      "/app/easybuild/software/Python/3.6.5-foss-2016b-fh3/lib/python3.6/site-packages/sklearn/preprocessing/label.py:151: DeprecationWarning: The truth value of an empty array is ambiguous. Returning False, but in future this will result in an error. Use `array.size > 0` to check that an array is not empty.\n",
      "  if diff:\n",
      "/app/easybuild/software/Python/3.6.5-foss-2016b-fh3/lib/python3.6/site-packages/sklearn/preprocessing/label.py:151: DeprecationWarning: The truth value of an empty array is ambiguous. Returning False, but in future this will result in an error. Use `array.size > 0` to check that an array is not empty.\n",
      "  if diff:\n"
     ]
    }
   ],
   "source": [
    "import warnings\n",
    "warnings.filterwarnings('ignore')\n",
    "\n",
    "from sklearn.metrics import roc_auc_score, make_scorer\n",
    "from xgboost import XGBClassifier\n",
    "\n",
    "# booster parameters\n",
    "param = {'max_depth': 3, \n",
    "         'eta': 1, \n",
    "         'silent': 1, \n",
    "         'learning_rate': 0.1,\n",
    "         'objective': 'binary:logistic',\n",
    "         'eval_metric': 'auc',\n",
    "         'nthread':4,\n",
    "         'subsample':0.8,\n",
    "         'booster':'gbtree',\n",
    "         'n_estimators': 100}\n",
    "\n",
    "\n",
    "performances, models = [], []\n",
    "for i in range(10):\n",
    "    \n",
    "    # subsample the negative set and join with positive set\n",
    "    negative_sample = np.concatenate(subsample_negatives(n_train, p_train.shape[0]))\n",
    "    positive_sample = p_train\n",
    "    \n",
    "    X = np.vstack([negative_sample, positive_sample])\n",
    "    y = np.hstack([np.zeros(negative_sample.shape[0]), np.ones(positive_sample.shape[0])])\n",
    "    \n",
    "    # Monitoring training performance\n",
    "    eval_set = [(X,y), (X_valid, y_valid)] # should change this to X_set\n",
    "    eval_metric = [\"auc\"] #, \"logloss\", \"error\"]\n",
    "    early_stopping_rounds=10\n",
    "\n",
    "\n",
    "    # fit model no training data\n",
    "    model = XGBClassifier(**param)\n",
    "    model.fit(X,y, eval_set=eval_set, \n",
    "                   eval_metric=eval_metric,\n",
    "                   early_stopping_rounds=early_stopping_rounds, \n",
    "                   verbose=False)\n",
    "    \n",
    "    y_pred = model.predict(X_valid)  \n",
    "    # Am I overfitting? How was performance in the training data?\n",
    "    y_pred2 = model.predict(X)\n",
    "\n",
    "    # evaluate predictions\n",
    "    on_training = roc_auc_score(y, y_pred2)\n",
    "    on_validation = roc_auc_score(y_valid, y_pred)\n",
    "\n",
    "    performances.append([on_training, on_validation])\n",
    "    models.append(model)"
   ]
  },
  {
   "cell_type": "code",
   "execution_count": 16,
   "metadata": {},
   "outputs": [
    {
     "data": {
      "text/plain": [
       "<BarContainer object of 20 artists>"
      ]
     },
     "execution_count": 16,
     "metadata": {},
     "output_type": "execute_result"
    },
    {
     "data": {
      "image/png": "[encoded data removed]",
      "text/plain": [
       "<Figure size 1080x360 with 2 Axes>"
      ]
     },
     "metadata": {},
     "output_type": "display_data"
    }
   ],
   "source": [
    "import matplotlib.gridspec as gridspec\n",
    "\n",
    "plt.figure(figsize=(15,5))\n",
    "gs = gridspec.GridSpec(1,2,\n",
    "                       width_ratios = [1,2])\n",
    "\n",
    "plt.subplot(gs[0])\n",
    "l = len(models[0].evals_result()['validation_0']['auc'])\n",
    "plt.plot(np.arange(l), models[0].evals_result()['validation_0']['auc'], label='training')\n",
    "plt.plot(np.arange(l), models[0].evals_result()['validation_1']['auc'], label='validation')\n",
    "plt.legend()\n",
    "\n",
    "plt.subplot(gs[1])\n",
    "plt.bar(aa, models[9].feature_importances_)"
   ]
  },
  {
   "cell_type": "markdown",
   "metadata": {},
   "source": []
  }
 ],
 "metadata": {
  "kernelspec": {
   "display_name": "Python 3",
   "language": "python",
   "name": "python3"
  },
  "language_info": {
   "codemirror_mode": {
    "name": "ipython",
    "version": 3
   },
   "file_extension": ".py",
   "mimetype": "text/x-python",
   "name": "python",
   "nbconvert_exporter": "python",
   "pygments_lexer": "ipython3",
   "version": "3.6.5"
  }
 },
 "nbformat": 4,
 "nbformat_minor": 2
}
