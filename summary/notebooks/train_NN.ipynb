{
 "cells": [
  {
   "cell_type": "code",
   "execution_count": 1,
   "metadata": {},
   "outputs": [
    {
     "name": "stdout",
     "output_type": "stream",
     "text": [
      "Populating the interactive namespace from numpy and matplotlib\n"
     ]
    }
   ],
   "source": [
    "import os,sys\n",
    "sys.path.append(os.path.abspath('../libraries/'))\n",
    "from summary_utils import *\n",
    "%pylab inline\n",
    "\n",
    "db = '../data/data_complete.db'"
   ]
  },
  {
   "cell_type": "code",
   "execution_count": 3,
   "metadata": {},
   "outputs": [],
   "source": [
    "# load complete dataset and \n",
    "positives, length_positives = load_data_from_sqlite(db, 'positives')\n",
    "negatives, length_negatives = load_data_from_sqlite(db, 'negatives')\n",
    "print('positives: {} samples\\nnegatives: {} samples'.format(length_positives[0], length_negatives[0]))"
   ]
  },
  {
   "cell_type": "code",
   "execution_count": 3,
   "metadata": {},
   "outputs": [],
   "source": [
    "# Add this to try eliminating positive sequences without reads in bins 2 to 4\n",
    "# These sequences might be noise\n",
    "conn = sqlite3.connect(db)\n",
    "cursor = conn.cursor()\n",
    "\n",
    "cursor.execute('SELECT seq,ss FROM positives WHERE bin2>0 OR bin3>0 OR bin4>0')\n",
    "positives = cursor.fetchall()\n",
    "length_positives = [len(positives)]"
   ]
  },
  {
   "cell_type": "code",
   "execution_count": 4,
   "metadata": {},
   "outputs": [],
   "source": [
    "# indices for positives and negatives\n",
    "idx_positives = np.arange(length_positives[0])\n",
    "idx_negatives = np.arange(length_negatives[0])\n",
    "\n",
    "# shuffle indices\n",
    "[np.random.shuffle(i) for i in [idx_positives, idx_negatives]]\n",
    "\n",
    "# TEST set is 10% of positives and same number from negatives\n",
    "# VALIDATION set is 10% of each (can subsample validation_negatives later)\n",
    "_10p = int(length_positives[0]/10)\n",
    "_10n = int(length_negatives[0]/10)\n",
    "\n",
    "idx_test_p = idx_positives[:_10p]\n",
    "idx_valid_p = idx_positives[_10p:_10p*2]\n",
    "idx_train_p = idx_positives[_10p*2:]\n",
    "\n",
    "idx_test_n = idx_negatives[:_10p]\n",
    "idx_valid_n= idx_negatives[_10p:_10p+_10n]\n",
    "idx_train_n = idx_negatives[_10p+_10n:]"
   ]
  },
  {
   "cell_type": "code",
   "execution_count": 5,
   "metadata": {},
   "outputs": [],
   "source": [
    "# define the positive and negative sets\n",
    "ohe_positives = np.array([prepare_ohe(i) for i in positives])\n",
    "ohe_negatives = np.array([prepare_ohe(i) for i in negatives])"
   ]
  },
  {
   "cell_type": "code",
   "execution_count": 6,
   "metadata": {},
   "outputs": [],
   "source": [
    "# create one numpy_map array for positives and 12 for negatives\n",
    "p = ohe_positives[idx_train_p]\n",
    "p_train, p_filename = store_data_numpy(p)\n",
    "\n",
    "# set the positive validation array\n",
    "p_valid = ohe_positives[idx_valid_p]\n",
    "p_test = ohe_positives[idx_test_p]\n",
    "\n",
    "# negatives. SQL indexes start with 1 and not 0\n",
    "N = 10 #divisors[-1]\n",
    "idxs = np.array(idx_train_n)\n",
    "idxs = np.array_split(idxs, N) \n",
    "\n",
    "n_filenames = np.empty(N, dtype='O')\n",
    "n_train = [np.zeros(shape=(i.shape[0],30,23), dtype=np.int8) for i in idxs]\n",
    "\n",
    "for i in range(N):\n",
    "    n = ohe_negatives[idxs[i]]\n",
    "    n_train[i], n_filenames[i] = store_data_numpy(n)\n",
    "\n",
    "# set the negative validation array \n",
    "n_valid = ohe_negatives[idx_valid_n]\n",
    "n_test = ohe_negatives[idx_test_n]\n",
    "\n",
    "# set a proper validation and test set with negatives and positives\n",
    "X_valid = np.vstack([n_valid, p_valid])\n",
    "y_valid = np.hstack([np.zeros(n_valid.shape[0]), np.ones(p_valid.shape[0])])\n",
    "idx = np.random.permutation( np.arange(y_valid.shape[0]) )\n",
    "X_valid, y_valid = X_valid[idx], y_valid[idx]\n",
    "\n",
    "X_test = np.vstack([n_test, p_test])\n",
    "y_test = np.hstack([np.zeros(n_test.shape[0]), np.ones(p_test.shape[0])])\n",
    "idx = np.random.permutation( np.arange(y_test.shape[0]) )\n",
    "X_test, y_test = X_test[idx], y_test[idx]"
   ]
  },
  {
   "cell_type": "markdown",
   "metadata": {},
   "source": [
    "### Test Neural Networks "
   ]
  },
  {
   "cell_type": "code",
   "execution_count": 7,
   "metadata": {},
   "outputs": [
    {
     "name": "stderr",
     "output_type": "stream",
     "text": [
      "/app/easybuild/software/Python/3.6.5-foss-2016b-fh3/lib/python3.6/site-packages/h5py-2.7.1-py3.6-linux-x86_64.egg/h5py/__init__.py:36: FutureWarning: Conversion of the second argument of issubdtype from `float` to `np.floating` is deprecated. In future, it will be treated as `np.float64 == np.dtype(float).type`.\n",
      "  from ._conv import register_converters as _register_converters\n",
      "Using TensorFlow backend.\n"
     ]
    },
    {
     "data": {
      "text/plain": [
       "<keras.callbacks.History at 0x7feb3e108c88>"
      ]
     },
     "execution_count": 7,
     "metadata": {},
     "output_type": "execute_result"
    }
   ],
   "source": [
    "import keras.backend as K\n",
    "from keras.layers import Input, Dense, Conv2D, Flatten, GlobalMaxPooling2D, AveragePooling2D, MaxPooling2D, Dropout\n",
    "from keras.models import Model\n",
    "from keras.activations import softmax, softplus, softsign, relu\n",
    "from keras.callbacks import EarlyStopping\n",
    "from keras import regularizers\n",
    "import tensorflow as tf\n",
    "from sklearn.metrics import roc_auc_score\n",
    "\n",
    "def auc(y_true, y_pred):\n",
    "    #return tf.py_func(roc_auc_score, (y_true, y_pred), tf.double)\n",
    "    auc = tf.metrics.auc(y_true, y_pred)[1]  # using defaults parameters --> num_thresholds=200\n",
    "    K.get_session().run(tf.local_variables_initializer())\n",
    "    return auc\n",
    "\n",
    "BS = 250 # samples/epoch\n",
    "\n",
    "K.clear_session()\n",
    "\n",
    "inputs = Input(shape=(30,23,1))\n",
    "x = Conv2D(29, (4,23), activation=softplus)(inputs)\n",
    "#x = MaxPooling2D((27,1))(x)\n",
    "x = Flatten()(x)\n",
    "#x = GlobalMaxPooling2D()(x)\n",
    "x = Dense(300, activation=softplus)(x) \n",
    "x = Dropout(0.3)(x)\n",
    "x = Dense(30, activation=softplus, kernel_regularizer=regularizers.l2(0.01))(x)\n",
    "output = Dense(1, activation='sigmoid')(x)\n",
    "model = Model(inputs=inputs, outputs=output)\n",
    "model.compile(optimizer='adam', loss='binary_crossentropy', metrics=[auc])\n",
    "model.fit_generator(epoch_generator(n_train, p_train, batch_size=BS), \n",
    "                    validation_data=(X_test.reshape(np.insert(X_test.shape,3,1)), y_test),\n",
    "                    steps_per_epoch=int(len(p_train)/BS),\n",
    "                    epochs=100,\n",
    "                    callbacks=[EarlyStopping(patience=3)],\n",
    "                    verbose=0)"
   ]
  },
  {
   "cell_type": "markdown",
   "metadata": {},
   "source": [
    "### Check training and validation score"
   ]
  },
  {
   "cell_type": "code",
   "execution_count": 8,
   "metadata": {},
   "outputs": [
    {
     "name": "stdout",
     "output_type": "stream",
     "text": [
      "ROC_AUC validation (including more negatives than positives): 0.98\n",
      "Saved model to disk\n"
     ]
    },
    {
     "data": {
      "image/png": "[encoded data removed]",
      "text/plain": [
       "<Figure size 360x360 with 1 Axes>"
      ]
     },
     "metadata": {},
     "output_type": "display_data"
    }
   ],
   "source": [
    "y_hat = model.predict(X_valid.reshape( np.insert(X_valid.shape, 3, 1) ))\n",
    "print('ROC_AUC validation (including more negatives than positives): {:.2f}'.format(roc_auc_score(y_valid, y_hat)))\n",
    "\n",
    "# plot training auc_roc\n",
    "plt.figure(figsize=(5,5))\n",
    "plt.plot(model.history.history['val_auc'], label='val_auc')\n",
    "plt.plot(model.history.history['auc'], label='auc')\n",
    "plt.legend();\n",
    "\n",
    "# serialize model to json\n",
    "model_json = model.to_json()\n",
    "with open(\"../models/deep_model.json\", \"w\") as json_file:\n",
    "    json_file.write(model_json)\n",
    "    \n",
    "# serialize weights to HDF5\n",
    "model.save_weights(\"../models/deep_model.h5\")\n",
    "print(\"Saved model to disk\")"
   ]
  },
  {
   "cell_type": "code",
   "execution_count": null,
   "metadata": {},
   "outputs": [],
   "source": []
  }
 ],
 "metadata": {
  "kernelspec": {
   "display_name": "Python 3",
   "language": "python",
   "name": "python3"
  },
  "language_info": {
   "codemirror_mode": {
    "name": "ipython",
    "version": 3
   },
   "file_extension": ".py",
   "mimetype": "text/x-python",
   "name": "python",
   "nbconvert_exporter": "python",
   "pygments_lexer": "ipython3",
   "version": "3.6.5"
  }
 },
 "nbformat": 4,
 "nbformat_minor": 2
}
